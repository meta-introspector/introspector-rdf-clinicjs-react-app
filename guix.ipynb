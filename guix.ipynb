{
 "cells": [
  {
   "cell_type": "code",
   "execution_count": 5,
   "id": "1c3370a3",
   "metadata": {},
   "outputs": [
    {
     "data": {
      "text/html": [
       "<div><h3 style=\"color: green;\">Preparing environment <tt>matplotlib-env</tt> with these packages:</h3><ul><li><tt>python-ipython 8.5.0</tt></li><li><tt>python-ipykernel 6.13.0</tt></li><li><tt>python-ipywidgets 7.6.3</tt></li><li><tt>python-matplotlib 3.8.2</tt></li><li><tt>python-ipympl 0.9.1</tt></li></ul></div>"
      ]
     },
     "execution_count": 5,
     "metadata": {},
     "output_type": "execute_result"
    },
    {
     "data": {
      "text/html": [
       "Done!"
      ]
     },
     "metadata": {},
     "output_type": "display_data"
    },
    {
     "data": {
      "text/html": [
       "<div>Running Python 3 (ipykernel) kernel.</div>"
      ]
     },
     "execution_count": 4,
     "metadata": {},
     "output_type": "execute_result"
    }
   ],
   "source": [
    ";;guix environment matplotlib-env <- python-ipython python-ipykernel python-ipywidgets python-matplotlib python-ipympl"
   ]
  },
  {
   "cell_type": "code",
   "execution_count": 1,
   "id": "daba663c",
   "metadata": {},
   "outputs": [],
   "source": [
    "%matplotlib widget"
   ]
  },
  {
   "cell_type": "code",
   "execution_count": 2,
   "id": "2b35995d",
   "metadata": {},
   "outputs": [
    {
     "ename": "SyntaxError",
     "evalue": "invalid syntax (330095617.py, line 1)",
     "output_type": "error",
     "traceback": [
      "\u001b[0;36m  Cell \u001b[0;32mIn [2], line 1\u001b[0;36m\u001b[0m\n\u001b[0;31m    import { test_driver } from \"./frontend/test_driver\";\u001b[0m\n\u001b[0m           ^\u001b[0m\n\u001b[0;31mSyntaxError\u001b[0m\u001b[0;31m:\u001b[0m invalid syntax\n"
     ]
    }
   ],
   "source": [
    "import { test_driver } from \"./frontend/test_driver\";\n",
    "test_driver();"
   ]
  },
  {
   "cell_type": "code",
   "execution_count": null,
   "id": "ca0a09bd",
   "metadata": {},
   "outputs": [],
   "source": [
    ";;guix environment typescript-env <- "
   ]
  }
 ],
 "metadata": {
  "kernelspec": {
   "display_name": "Guix",
   "language": "scheme",
   "name": "guix"
  },
  "language_info": {
   "codemirror_mode": "scheme",
   "file_extension": ".scm",
   "mimetype": "application/x-scheme",
   "name": "guile",
   "pygments_lexer": "scheme",
   "version": "3.0"
  }
 },
 "nbformat": 4,
 "nbformat_minor": 5
}
