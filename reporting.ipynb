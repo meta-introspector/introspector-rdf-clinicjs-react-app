{
 "cells": [
  {
   "cell_type": "code",
   "execution_count": 1,
   "id": "b9c071ac",
   "metadata": {},
   "outputs": [],
   "source": [
    "import { test_driver } from \"./frontend/test_driver\";\n"
   ]
  },
  {
   "cell_type": "code",
   "execution_count": 2,
   "id": "c7649397",
   "metadata": {},
   "outputs": [],
   "source": [
    "const dataForge = require('data-forge')"
   ]
  },
  {
   "cell_type": "code",
   "execution_count": 3,
   "id": "24266958",
   "metadata": {},
   "outputs": [],
   "source": [
    "let empty_frame =  new dataForge.DataFrame([]);"
   ]
  },
  {
   "cell_type": "code",
   "execution_count": 4,
   "id": "2d4ce42f",
   "metadata": {},
   "outputs": [
    {
     "name": "stdout",
     "output_type": "stream",
     "text": [
      "0\n"
     ]
    }
   ],
   "source": [
    "empty_frame.count()"
   ]
  },
  {
   "cell_type": "code",
   "execution_count": 5,
   "id": "4109b6c1",
   "metadata": {},
   "outputs": [
    {
     "name": "stdout",
     "output_type": "stream",
     "text": [
      "DataFrame {\n",
      "  configFn: null,\n",
      "  content: {\n",
      "    index: CountIterable {},\n",
      "    values: [ [Object] ],\n",
      "    pairs: MultiIterable { iterables: [Array] },\n",
      "    isBaked: true,\n",
      "    columnNames: [ 'a' ],\n",
      "    isCaseSensitive: false\n",
      "  },\n",
      "  indexedContent: null\n",
      "}\n"
     ]
    }
   ],
   "source": [
    "let df = new dataForge.DataFrame(\n",
    "    [{\n",
    "    a:1\n",
    "}]\n",
    "     );\n",
    "df\n"
   ]
  },
  {
   "cell_type": "code",
   "execution_count": 6,
   "id": "47ba6db6",
   "metadata": {},
   "outputs": [
    {
     "name": "stdout",
     "output_type": "stream",
     "text": [
      "[\n",
      "    {\n",
      "        a: 1,\n",
      "    },\n",
      "    {\n",
      "        a: 2,\n",
      "    },\n",
      "    {\n",
      "        a: 3,\n",
      "    },\n",
      "]\n"
     ]
    }
   ],
   "source": [
    "// Create a new DataFrame with the row to add\n",
    "let newRow = new dataForge.DataFrame([\n",
    "    {\n",
    "    a:2\n",
    "},\n",
    "    {a:3}\n",
    "]);\n",
    "\n",
    "// Concatenate the two DataFrames\n",
    "let df2 = df.concat(newRow);\n",
    "\n",
    "df2.toJSON5()"
   ]
  },
  {
   "cell_type": "code",
   "execution_count": 7,
   "id": "8024b96f",
   "metadata": {},
   "outputs": [
    {
     "name": "stdout",
     "output_type": "stream",
     "text": [
      "3\n"
     ]
    }
   ],
   "source": [
    "df2.count()"
   ]
  },
  {
   "cell_type": "code",
   "execution_count": 8,
   "id": "18795ff5",
   "metadata": {},
   "outputs": [
    {
     "name": "stdout",
     "output_type": "stream",
     "text": [
      "0\n"
     ]
    }
   ],
   "source": [
    "//function add_to_frame(results,name,value) {}\n",
    "//function find_calls(event,filter) {}\n",
    "//function create_find_function(function_name:string) {}\n",
    "//create_find_function.foo = find_calls\n",
    "//create_find_function()\n",
    "let empty_frame =  new dataForge.DataFrame([]);\n",
    "function introspector(x:any){\n",
    "    \n",
    "    let newRow = new dataForge.DataFrame([{a:2}]);\n",
    "// Concatenate the two DataFrames\n",
    "    empty_frame = empty_frame.concat(newRow);\n",
    "\n",
    "}\n",
    "test_driver(introspector);\n",
    "empty_frame.count()"
   ]
  },
  {
   "cell_type": "code",
   "execution_count": null,
   "id": "58f5dff6",
   "metadata": {},
   "outputs": [],
   "source": []
  },
  {
   "cell_type": "markdown",
   "id": "146d8a44",
   "metadata": {},
   "source": [
    "# Idea \n",
    "\n",
    "## brainstorm\n",
    "\n",
    "### words\n",
    "\n",
    "#### pass in empty frame into tree\n",
    "\n",
    "```typescript\n",
    "\n",
    "function test_frame(){\n",
    "\n",
    "    let empty_frame =  new dataForge.DataFrame([]);\n",
    "\n",
    "    function visitor(event:any) {\n",
    "        function filter_function_name(function_name:string) {return true;}\n",
    "        function visit_function_name(function_name:string, function_value:any) {\n",
    "        add_to_frame(empty_frame,function_name, function_value);\n",
    "    }\n",
    "    let find_functions = create_find_function(visit_function_name,filter_function_name)\n",
    "    find_calls(event,find_functions);\n",
    "    test_driver(visitor);\n",
    "    return empty_frame  \n",
    "};\n",
    "    \n",
    "test_frame()\n",
    "\n",
    "```\n",
    "So this idea is we construct an empty data frame, visit filtered function frames from the perf data\n",
    "and then add data to our frame. \n",
    "\n",
    "for now we will write to csv and read that back into mathplotlib\n",
    "later we will make sure all the parts run in guix.\n"
   ]
  },
  {
   "cell_type": "code",
   "execution_count": null,
   "id": "dac8f565",
   "metadata": {},
   "outputs": [],
   "source": []
  }
 ],
 "metadata": {
  "kernelspec": {
   "display_name": "TypeScript",
   "language": "typescript",
   "name": "tslab"
  },
  "language_info": {
   "codemirror_mode": {
    "mode": "typescript",
    "name": "javascript",
    "typescript": true
   },
   "file_extension": ".ts",
   "mimetype": "text/typescript",
   "name": "typescript",
   "version": "3.7.2"
  }
 },
 "nbformat": 4,
 "nbformat_minor": 5
}
