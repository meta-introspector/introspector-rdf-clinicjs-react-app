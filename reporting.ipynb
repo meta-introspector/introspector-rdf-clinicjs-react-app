{
 "cells": [
  {
   "cell_type": "code",
   "execution_count": 1,
   "id": "b9c071ac",
   "metadata": {},
   "outputs": [],
   "source": [
    "import { test_driver } from \"./frontend/test_driver\";\n",
    "test_driver();"
   ]
  },
  {
   "cell_type": "code",
   "execution_count": 2,
   "id": "c7649397",
   "metadata": {},
   "outputs": [],
   "source": [
    "const dataForge = require('data-forge')"
   ]
  },
  {
   "cell_type": "code",
   "execution_count": 3,
   "id": "24266958",
   "metadata": {},
   "outputs": [],
   "source": [
    "let empty_frame =  new dataForge.DataFrame([]);"
   ]
  },
  {
   "cell_type": "code",
   "execution_count": 4,
   "id": "2d4ce42f",
   "metadata": {},
   "outputs": [
    {
     "name": "stdout",
     "output_type": "stream",
     "text": [
      "0\n"
     ]
    }
   ],
   "source": [
    "empty_frame.count()"
   ]
  },
  {
   "cell_type": "code",
   "execution_count": 20,
   "id": "18795ff5",
   "metadata": {},
   "outputs": [
    {
     "name": "stderr",
     "output_type": "stream",
     "text": [
      "5:1 - Expected 1 arguments, but got 0.\n"
     ]
    }
   ],
   "source": [
    "function add_to_frame(results,name,value) {}\n",
    "function find_calls(event,filter) {}\n",
    "function create_find_function(function_name:string) {}\n",
    "create_find_function.foo = find_calls\n",
    "create_find_function()"
   ]
  },
  {
   "cell_type": "markdown",
   "id": "146d8a44",
   "metadata": {},
   "source": [
    "# Idea \n",
    "\n",
    "## brainstorm\n",
    "\n",
    "### words\n",
    "\n",
    "#### pass in empty frame into tree\n",
    "\n",
    "```typescript\n",
    "\n",
    "function test_frame(){\n",
    "\n",
    "    let empty_frame =  new dataForge.DataFrame([]);\n",
    "\n",
    "    function visitor(event:any) {\n",
    "        function filter_function_name(function_name:string) {return true;}\n",
    "        function visit_function_name(function_name:string, function_value:any) {\n",
    "        add_to_frame(empty_frame,function_name, function_value);\n",
    "    }\n",
    "    let find_functions = create_find_function(visit_function_name,filter_function_name)\n",
    "    find_calls(event,find_functions);\n",
    "    test_driver(visitor);\n",
    "    return empty_frame  \n",
    "};\n",
    "    \n",
    "test_frame()\n",
    "\n",
    "```\n",
    "So this idea is we construct an empty data frame, visit filtered function frames from the perf data\n",
    "and then add data to our frame. \n",
    "\n",
    "for now we will write to csv and read that back into mathplotlib\n",
    "later we will make sure all the parts run in guix.\n"
   ]
  },
  {
   "cell_type": "code",
   "execution_count": null,
   "id": "dac8f565",
   "metadata": {},
   "outputs": [],
   "source": []
  }
 ],
 "metadata": {
  "kernelspec": {
   "display_name": "TypeScript",
   "language": "typescript",
   "name": "tslab"
  },
  "language_info": {
   "codemirror_mode": {
    "mode": "typescript",
    "name": "javascript",
    "typescript": true
   },
   "file_extension": ".ts",
   "mimetype": "text/typescript",
   "name": "typescript",
   "version": "3.7.2"
  }
 },
 "nbformat": 4,
 "nbformat_minor": 5
}
